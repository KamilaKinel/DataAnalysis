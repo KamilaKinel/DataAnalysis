{
 "cells": [
  {
   "cell_type": "markdown",
   "id": "ce890a3a-33b3-4357-8e13-99c45f943a24",
   "metadata": {},
   "source": [
    "# Homework 1\n",
    "\n",
    "This is Homework 1 for CS 489. Please solve the problems below to the best of your ability. Note that your submission must be a file upload to Canvas and be a Jupyter Notebook file (`.ipynb`).\n",
    "\n",
    "**ALL CODE YOU WRITE MUST BE YOUR OWN.** You may use course materials, slides, and concepts, but any code you write must be of your own creation. If you do reference or make use of outside source, please make sure they are cited appropriately. A strict citation style is not needed, and a URL is sufficient, but please acknowledge any external materials.\n",
    "\n",
    "To make sure that plots are properly embedded in your notebook, please use the `%matplotlib inline` Jupyter magic. You may also include any additional packages that you require.\n",
    "\n",
    "Point totals will be awarded as indicated for each problem or sub-section. Note that throughout, explanatory comments are _required_, and partial credit may be earned even for solutions that do not fully implement the problem as stated."
   ]
  },
  {
   "cell_type": "code",
   "execution_count": 1,
   "id": "8c3abe3c-c38f-45fa-a9ff-0e7f1d7e58cf",
   "metadata": {},
   "outputs": [],
   "source": [
    "%matplotlib inline\n",
    "\n",
    "# Incldue other packages you need here"
   ]
  },
  {
   "cell_type": "markdown",
   "id": "4f8731e0-3f5e-4d1b-a2cd-0fe682befcab",
   "metadata": {},
   "source": [
    "# Problem 1 [15 points]\n",
    "In the space below, please list your group members for the final project (groups must consist of 3-4 members). Also list a tentative topic and dataset that you are interested in working on. Note that the topic and/or dataset can change! If you have specific questions or need inspiration for what to work on, please reach out to the course instructor."
   ]
  },
  {
   "cell_type": "markdown",
   "id": "36c6b082-c06c-4062-97aa-19e4dde05e8a",
   "metadata": {},
   "source": [
    "Your group mates, topic, and dataset go here!"
   ]
  },
  {
   "cell_type": "markdown",
   "id": "935890a2-e159-424d-88cf-725311ad08cc",
   "metadata": {},
   "source": [
    "# Problem 2 [25 points]\n",
    "\n",
    "## Part 2.a [15 points]\n",
    "Write your own function for computing a histogram given a one-dimensional Python list or NumPy array of data, and a desired number of bins."
   ]
  },
  {
   "cell_type": "code",
   "execution_count": null,
   "id": "803ac184-f621-45e3-8ca6-9ba28988e161",
   "metadata": {},
   "outputs": [],
   "source": [
    "def compute_histogram(data, nbins=10):\n",
    "    ..."
   ]
  },
  {
   "cell_type": "markdown",
   "id": "b73d9c43-c152-42ab-b002-d2c2070744e8",
   "metadata": {},
   "source": [
    "## Part 2.b [10 points]\n",
    "Show that it produces a similar output to `np.histogram` given the sample of input data in `histogram_data.txt` (included on the assignment page in Canvas)."
   ]
  },
  {
   "cell_type": "code",
   "execution_count": null,
   "id": "90bd7d9f-b209-4da9-a42a-551afd3fbfdc",
   "metadata": {},
   "outputs": [],
   "source": [
    "histogram_data = ...\n",
    "\n",
    "my_histogram = compute_histogram(histogram_data, nbins=10)\n",
    "numpy_histogram = np.histogram(...)\n",
    "\n",
    "plt.plot(...)"
   ]
  },
  {
   "cell_type": "markdown",
   "id": "54261c22-0785-4425-9424-ac06fa1a5249",
   "metadata": {},
   "source": [
    "# Problem 3 [25 points]\n",
    "We are going to practice linear interpolation in 2 dimensions. We talked about interpolating in 1-d in class, and this is a natural step on the way up to $n$-dimensional interpolation.\n",
    "\n",
    "## Problem 3.a [10 points]\n",
    "Write your own function for linearly interpolating data in two dimensions. This function should take as arguments:\n",
    "- Desired $x$-coordinate(s)\n",
    "- Desired $y$-coordinate(s)\n",
    "- Input 1-d grid of $x$-coordinates for which the function is defined\n",
    "- Input 1-d grid of $y$-coordinates for which the function is defined\n",
    "- Input 2-d grid of function values where the function is defined/evaluated\n",
    "As output, your function should return:\n",
    "- The linearly interpolated value for a $z$-coordinate that corresponds to the input $x$- and $y$-values."
   ]
  },
  {
   "cell_type": "code",
   "execution_count": null,
   "id": "545eaa53-2071-4c87-b711-3fdcd34fefcb",
   "metadata": {},
   "outputs": [],
   "source": [
    "def interp2d(...):\n",
    "    ..."
   ]
  },
  {
   "cell_type": "markdown",
   "id": "d0b4eae3-a68a-459a-9e07-f462b18cfbfe",
   "metadata": {},
   "source": [
    "## Problem 3.b [10 points]\n",
    "Read in the $x$-values, $y$-values, and function ($z$) values defined in `interp_xvals.txt`, `interp_yvals.txt`, and `interp_zvals.txt`. Compute the interpolated value for $x = 0.13$ and $y = 2.77$ based on your function defined above."
   ]
  },
  {
   "cell_type": "code",
   "execution_count": null,
   "id": "66b33c53-e4fd-4c1c-b2e9-a2cbfca9a342",
   "metadata": {},
   "outputs": [],
   "source": [
    "xvals = ...\n",
    "yvals = ...\n",
    "zvals = ...\n",
    "\n",
    "result = interp2d(...)\n",
    "print(result)"
   ]
  },
  {
   "cell_type": "markdown",
   "id": "6f38b44e-5207-435b-b829-75ab2ea53595",
   "metadata": {},
   "source": [
    "## Problem 3.c [5 points]\n",
    "Plot the results of your interpolating function, as well as the results of `scipy.interpolate.interp2d` using `kind='linear'` over the region $x \\in [0, 5]$ and $y \\in [0, 3]$. You may use either a 3d plot, or a pseudo-color plot."
   ]
  },
  {
   "cell_type": "code",
   "execution_count": null,
   "id": "df759a62-7906-4490-8fdd-a838b62e9060",
   "metadata": {},
   "outputs": [],
   "source": [
    "plt.plot(...)\n",
    "..."
   ]
  },
  {
   "cell_type": "markdown",
   "id": "b576d5bb-fe98-451e-b806-680120e76b19",
   "metadata": {},
   "source": [
    "# Problem 4 [35 points]\n",
    "We are going to analyze a sample dataset, and go through some typical analysis steps that might be done.\n",
    "\n",
    "## Part 4.a [5 points]\n",
    "Read in the dataset `particle_data.txt` These represent measurements of particle velocities from an experimental apparatus we have, in cm/s."
   ]
  },
  {
   "cell_type": "code",
   "execution_count": null,
   "id": "2c788654-9417-4f4b-8d66-c1e20b5d62f6",
   "metadata": {},
   "outputs": [],
   "source": [
    "particle_data = ..."
   ]
  },
  {
   "cell_type": "markdown",
   "id": "252717b7-98f8-40a7-abb1-afcb77c829b2",
   "metadata": {},
   "source": [
    "## Part 4.b [5 points]\n",
    "Compute the mean, standard deviation, and median of the dataset. Note that you should compute these quantities using **code that you write yourself** (the use of built-in Python functions is allowed), but you _may_ check your answers using functions available from NumPy."
   ]
  },
  {
   "cell_type": "code",
   "execution_count": null,
   "id": "6acee5f9-a5f4-438a-9c34-1f19a66a3304",
   "metadata": {},
   "outputs": [],
   "source": [
    "def mean(...):\n",
    "    ...\n",
    "\n",
    "def std(...):\n",
    "    ...\n",
    "\n",
    "def median(...):\n",
    "    ...\n",
    "\n",
    "print(mean(particle_data))\n",
    "print(std(particle_data))\n",
    "print(median(particle_data))"
   ]
  },
  {
   "cell_type": "markdown",
   "id": "d07e97b6-cd6b-4bd3-8180-f839c9d9700a",
   "metadata": {},
   "source": [
    "## Part 4.c [5 points]\n",
    "Compute the PDF of the data. Make sure that it is normalized (i.e., that $\\int \\mathrm{d}x \\; \\mathrm{PDF}(x) = 1$). Make a plot of the PDF of the interval spanned by the data."
   ]
  },
  {
   "cell_type": "code",
   "execution_count": null,
   "id": "111b7dd0-7236-4dce-bfa7-9488686c652e",
   "metadata": {},
   "outputs": [],
   "source": [
    "def calc_pdf(...):\n",
    "    ...\n",
    "\n",
    "pdf = calc_pdf(particle_data)\n",
    "\n",
    "plt.plot(...)"
   ]
  },
  {
   "cell_type": "markdown",
   "id": "57d304dc-8b2b-4e63-a031-b12f6e62efe0",
   "metadata": {},
   "source": [
    "## Part 4.d [5 points]\n",
    "Compute the CDF of the data. Again, it should be normalized (so that $\\mathrm{CDF}(-\\infty) = 0$ and $\\mathrm{CDF}(+\\infty) = 1$). Make a plot over the interval."
   ]
  },
  {
   "cell_type": "code",
   "execution_count": null,
   "id": "3bfd92b4-02ac-4332-b72e-fcf815517ffb",
   "metadata": {},
   "outputs": [],
   "source": [
    "def calc_cdf(...):\n",
    "    ...\n",
    "\n",
    "cdf = calc_cdf(particle_data)\n",
    "\n",
    "plt.plot(...)"
   ]
  },
  {
   "cell_type": "markdown",
   "id": "3fa08678-13bc-4e1c-8e21-a0af83526472",
   "metadata": {},
   "source": [
    "## Part 4.e [5 points]\n",
    "Compare the data with a Gaussian distribution with the same mean and standard deviation as the data. Plot the PDF/histogram of the data against the Gaussian model."
   ]
  },
  {
   "cell_type": "code",
   "execution_count": null,
   "id": "4cbe1e74-e1df-47c6-ab2c-d92faa53778b",
   "metadata": {},
   "outputs": [],
   "source": [
    "gaussian_model = ...\n",
    "pdf = calc_pdf(particle_data)\n",
    "\n",
    "plt.plot(...)\n",
    "plt.plot(...)"
   ]
  },
  {
   "cell_type": "markdown",
   "id": "1a5bc869-bf24-40d3-918c-01ed16115bb2",
   "metadata": {},
   "source": [
    "## Part 4.f [5 points]\n",
    "Use the KS test to determine whether the data are consistent with a Gaussian distribution.\n",
    "\n",
    "✨ EXTRA CREDIT ✨\n",
    "If the data are not consistent with a Gaussian, can you find a distribution that is?"
   ]
  },
  {
   "cell_type": "code",
   "execution_count": null,
   "id": "efb81a20-e506-4990-a403-75834cf55b81",
   "metadata": {},
   "outputs": [],
   "source": [
    "result = kstest(...)"
   ]
  },
  {
   "cell_type": "markdown",
   "id": "f29de8f0-9052-4f8f-865f-2b3ada1c0108",
   "metadata": {},
   "source": [
    "## Part 4.g [5 points]\n",
    "Compute the (approximate) confidence intervals over which 68% and 95% of the data are distributed.\n",
    "\n",
    "_Hint_: you can fine the, e.g., 68% confidence interval by finding the value $a$ such that $\\mathrm{CDF}(\\mu + a) - \\mathrm{CDF}(\\mu - a) \\approx 0.68$, where $\\mu$ is the mean of the data."
   ]
  },
  {
   "cell_type": "code",
   "execution_count": null,
   "id": "522842e8-12d2-4fe1-9cd1-76915395ad4b",
   "metadata": {},
   "outputs": [],
   "source": [
    "cdf = calc_cdf(particle_data)\n",
    "\n",
    "..."
   ]
  },
  {
   "cell_type": "code",
   "execution_count": null,
   "id": "a32637ac-c9eb-463d-abd9-748cf6c6fa50",
   "metadata": {},
   "outputs": [],
   "source": []
  }
 ],
 "metadata": {
  "kernelspec": {
   "display_name": "Python 3 (ipykernel)",
   "language": "python",
   "name": "python3"
  },
  "language_info": {
   "codemirror_mode": {
    "name": "ipython",
    "version": 3
   },
   "file_extension": ".py",
   "mimetype": "text/x-python",
   "name": "python",
   "nbconvert_exporter": "python",
   "pygments_lexer": "ipython3",
   "version": "3.10.12"
  }
 },
 "nbformat": 4,
 "nbformat_minor": 5
}
